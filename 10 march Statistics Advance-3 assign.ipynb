{
 "cells": [
  {
   "cell_type": "code",
   "execution_count": null,
   "id": "78d23514-1872-4dfe-aea4-e9f9d9b2968e",
   "metadata": {},
   "outputs": [],
   "source": [
    "Q1: What is Estimation Statistics? Explain point estimate and interval estimate."
   ]
  },
  {
   "cell_type": "code",
   "execution_count": null,
   "id": "61d86730-eea0-4914-a90e-eb9557e47c2a",
   "metadata": {},
   "outputs": [],
   "source": [
    "Estimation in statistics refers to the process of using sample data to make educated guesses or inferences about population parameters. Estimation is a fundamental aspect of statistical analysis and is used to provide insights into unknown or unobservable characteristics of populations.\n",
    "\n",
    "There are two main types of estimation in statistics: point estimation and interval estimation.\n",
    "\n",
    "1. **Point Estimation:**\n",
    "   \n",
    "   - **Point estimation** involves using sample data to calculate a single, specific value (a point) as an estimate of an unknown population parameter. This single value is often denoted by a Greek letter such as θ (theta) and represents the best guess or \"point\" estimate of the parameter.\n",
    "\n",
    "   - A common example of point estimation is calculating the sample mean (\\(\\bar{x}\\)) as an estimate of the population mean (\\(\\mu\\)) or using the sample proportion (\\(p\\)) as an estimate of the population proportion (\\(P\\)).\n",
    "\n",
    "   - Point estimates are convenient because they provide a single number that summarizes the estimate of the parameter. However, they do not provide information about the uncertainty or variability of the estimate.\n",
    "\n",
    "2. **Interval Estimation:**\n",
    "   \n",
    "   - **Interval estimation** goes a step further by providing a range or interval of values within which the true population parameter is likely to fall. This range is called a confidence interval.\n",
    "\n",
    "   - A confidence interval is defined by two values: an upper limit and a lower limit. It is often expressed in the form of (lower limit, upper limit) and is associated with a confidence level (e.g., 95% confidence interval).\n",
    "\n",
    "   - The process of interval estimation takes into account both the point estimate and the variability in the sample data. It provides a sense of how much uncertainty there is in the estimate and how confident we can be that the true parameter falls within the interval.\n",
    "\n",
    "   - A common example is calculating a confidence interval for the population mean (\\(\\mu\\)) based on the sample mean (\\(\\bar{x}\\)) and the sample standard deviation (\\(s\\)). For example, a 95% confidence interval for \\(\\mu\\) might be expressed as (\\(\\bar{x} - 1.96\\frac{s}{\\sqrt{n}}\\), \\(\\bar{x} + 1.96\\frac{s}{\\sqrt{n}}\\)).\n",
    "\n",
    "Interval estimates are valuable because they provide a measure of the uncertainty associated with the estimate. A wider confidence interval indicates greater uncertainty, while a narrower interval suggests higher confidence in the estimate.\n",
    "\n",
    "In summary, estimation in statistics involves the use of sample data to estimate population parameters. Point estimation provides a single value as the estimate, while interval estimation provides a range of values (confidence interval) within which the parameter is likely to fall. Interval estimation is often preferred when assessing the reliability of an estimate because it incorporates the uncertainty associated with the data."
   ]
  },
  {
   "cell_type": "code",
   "execution_count": null,
   "id": "5af3cbbf-c988-4f7f-84a3-e7fcff3a6dc0",
   "metadata": {},
   "outputs": [],
   "source": [
    "Q2. Write a Python function to estimate the population mean using a sample mean and standard\n",
    "deviation."
   ]
  },
  {
   "cell_type": "code",
   "execution_count": null,
   "id": "febcc7ce-456b-49b8-93fb-db23031f9284",
   "metadata": {},
   "outputs": [],
   "source": [
    "To estimate the population mean (\n",
    "�\n",
    "μ) using a sample mean (\n",
    "�\n",
    "ˉ\n",
    "x\n",
    "ˉ\n",
    " ) and a sample standard deviation (\n",
    "�\n",
    "s), you can use the following Python function. This function calculates the margin of error (MOE) based on a specified confidence level and then constructs a confidence interval for the population mean. The confidence interval represents a range of values within which the population mean is likely to fall."
   ]
  },
  {
   "cell_type": "code",
   "execution_count": 1,
   "id": "eab9eb7a-4687-466d-9c6e-d3ae1eee0dcd",
   "metadata": {},
   "outputs": [
    {
     "name": "stdout",
     "output_type": "stream",
     "text": [
      "Confidence Interval: (69.28482232958517, 71.71517767041483)\n"
     ]
    }
   ],
   "source": [
    "import scipy.stats as stats\n",
    "\n",
    "def estimate_population_mean(sample_mean, sample_std, sample_size, confidence_level=0.95):\n",
    "    \"\"\"\n",
    "    Estimate the population mean using a sample mean, sample standard deviation, and sample size.\n",
    "\n",
    "    Parameters:\n",
    "    - sample_mean: The sample mean.\n",
    "    - sample_std: The sample standard deviation.\n",
    "    - sample_size: The sample size.\n",
    "    - confidence_level: The desired confidence level (e.g., 0.95 for a 95% confidence interval).\n",
    "\n",
    "    Returns:\n",
    "    - confidence_interval: A tuple (lower_limit, upper_limit) representing the confidence interval.\n",
    "    \"\"\"\n",
    "    # Calculate the critical value (z-score) for the desired confidence level\n",
    "    alpha = 1 - confidence_level\n",
    "    z_critical = stats.norm.ppf(1 - alpha / 2)  # 2-tailed test\n",
    "\n",
    "    # Calculate the margin of error (MOE)\n",
    "    moe = z_critical * (sample_std / (sample_size ** 0.5))\n",
    "\n",
    "    # Calculate the confidence interval\n",
    "    lower_limit = sample_mean - moe\n",
    "    upper_limit = sample_mean + moe\n",
    "\n",
    "    return lower_limit, upper_limit\n",
    "\n",
    "# Example usage:\n",
    "sample_mean = 70.5\n",
    "sample_std = 6.2\n",
    "sample_size = 100\n",
    "confidence_level = 0.95\n",
    "\n",
    "confidence_interval = estimate_population_mean(sample_mean, sample_std, sample_size, confidence_level)\n",
    "print(\"Confidence Interval:\", confidence_interval)\n"
   ]
  },
  {
   "cell_type": "code",
   "execution_count": null,
   "id": "dc315595-9ec3-4697-8c41-5604065d78af",
   "metadata": {},
   "outputs": [],
   "source": [
    "In this Python function:\n",
    "\n",
    "sample_mean is the sample mean.\n",
    "sample_std is the sample standard deviation.\n",
    "sample_size is the sample size.\n",
    "confidence_level is the desired confidence level for the interval (default is 0.95 for a 95% confidence interval).\n",
    "The function uses the inverse cumulative distribution function (ppf) from the SciPy library to calculate the critical value (z-score) for the specified confidence level. It then computes the margin of error and constructs the confidence interval for the population mean.\n",
    "\n",
    "You can replace the example values with your own sample statistics and confidence level to estimate the population mean for your da"
   ]
  },
  {
   "cell_type": "code",
   "execution_count": null,
   "id": "ce5a4db5-f797-4e5e-b6d4-4216b0d09bc3",
   "metadata": {},
   "outputs": [],
   "source": [
    "Q3: What is Hypothesis testing? Why is it used? State the importance of Hypothesis testing."
   ]
  },
  {
   "cell_type": "code",
   "execution_count": null,
   "id": "167551af-fc9e-4276-bfc8-6f07d23af58f",
   "metadata": {},
   "outputs": [],
   "source": [
    "Hypothesis testing is a fundamental statistical method used to make decisions or draw inferences about population parameters based on sample data. It involves formulating a hypothesis, collecting and analyzing data, and then making a statistical judgment regarding the validity of the hypothesis. Hypothesis testing is widely used in various fields, including science, engineering, medicine, social sciences, and business, for several important reasons:\n",
    "\n",
    "1. **Testing Scientific Questions:** Hypothesis testing is a systematic approach for testing scientific hypotheses and theories. Researchers use it to determine whether observed effects or relationships in data are statistically significant or if they could have occurred by random chance.\n",
    "\n",
    "2. **Making Inferences:** Hypothesis testing allows us to make inferences about population parameters based on sample data. It provides a structured framework for drawing conclusions about the larger population from which the sample is drawn.\n",
    "\n",
    "3. **Decision-Making:** In business and industry, hypothesis testing is used to make informed decisions. For example, it can help decide whether to launch a new product, change a manufacturing process, or adopt a new marketing strategy.\n",
    "\n",
    "4. **Quality Control:** In manufacturing and quality control, hypothesis testing is crucial for assessing whether a product or process meets specified quality standards. It helps identify defects and ensure quality control.\n",
    "\n",
    "5. **Medical Research:** In medical and clinical research, hypothesis testing is used to evaluate the effectiveness of new treatments, drugs, or medical procedures. It helps determine whether there is sufficient evidence to support a particular medical hypothesis.\n",
    "\n",
    "6. **Policy and Government:** Hypothesis testing is used in policy analysis to assess the impact of government policies, regulations, and interventions. It helps policymakers make informed decisions based on data-driven evidence.\n",
    "\n",
    "7. **Scientific Progress:** Hypothesis testing is essential for advancing scientific knowledge. It allows researchers to build on existing theories, challenge conventional wisdom, and refine scientific understanding through empirical testing.\n",
    "\n",
    "The importance of hypothesis testing lies in its ability to provide a systematic and objective framework for making decisions and drawing conclusions based on data. It helps address questions such as:\n",
    "\n",
    "- Is a new treatment more effective than an existing one?\n",
    "- Does a marketing campaign lead to increased sales?\n",
    "- Is there a significant difference between two groups in a clinical trial?\n",
    "- Does a manufacturing process meet quality standards?\n",
    "- Is there evidence to support or reject a scientific theory?\n",
    "\n",
    "Hypothesis testing helps ensure that conclusions are not based solely on anecdotal evidence or intuition but are supported by rigorous statistical analysis. It provides a way to quantify uncertainty, assess the reliability of results, and make data-driven decisions, ultimately contributing to the advancement of knowledge and informed decision-making in various fields."
   ]
  },
  {
   "cell_type": "code",
   "execution_count": null,
   "id": "4a4d9f47-533d-4745-b058-d118bf05fcb7",
   "metadata": {},
   "outputs": [],
   "source": [
    "Q4. Create a hypothesis that states whether the average weight of male college students is greater than\n",
    "the average weight of female college students."
   ]
  },
  {
   "cell_type": "code",
   "execution_count": null,
   "id": "7bede97c-fbfe-4f13-a739-7319aa68d698",
   "metadata": {},
   "outputs": [],
   "source": [
    "Certainly! To create a hypothesis test that examines whether the average weight of male college students is greater than the average weight of female college students, you can set up the null hypothesis (\\(H_0\\)) and the alternative hypothesis (\\(H_a\\)) as follows:\n",
    "\n",
    "**Null Hypothesis (\\(H_0\\)):**\n",
    "The null hypothesis states that there is no significant difference in the average weight between male and female college students. It can be formulated as:\n",
    "\n",
    "\\[H_0: \\mu_{\\text{male}} \\leq \\mu_{\\text{female}}\\]\n",
    "\n",
    "Where:\n",
    "- \\(\\mu_{\\text{male}}\\) represents the population mean weight of male college students.\n",
    "- \\(\\mu_{\\text{female}}\\) represents the population mean weight of female college students.\n",
    "\n",
    "**Alternative Hypothesis (\\(H_a\\)):**\n",
    "The alternative hypothesis is the statement you want to test. In this case, it suggests that the average weight of male college students is greater than the average weight of female college students. It can be formulated as:\n",
    "\n",
    "\\[H_a: \\mu_{\\text{male}} > \\mu_{\\text{female}}\\]\n",
    "\n",
    "Where:\n",
    "- \\(\\mu_{\\text{male}}\\) represents the population mean weight of male college students.\n",
    "- \\(\\mu_{\\text{female}}\\) represents the population mean weight of female college students.\n",
    "\n",
    "In this hypothesis test:\n",
    "- \\(H_0\\) represents the null hypothesis, which assumes no significant difference.\n",
    "- \\(H_a\\) represents the alternative hypothesis, which suggests a significant difference in favor of male college students having a greater average weight.\n",
    "\n",
    "You would collect data on the weights of male and female college students, calculate the sample means for both groups, and then perform a statistical test, such as a t-test or z-test, to determine whether there is enough evidence to reject the null hypothesis in favor of the alternative hypothesis based on your sample data. The choice of test would depend on factors such as the sample size and whether the population standard deviations are known or estimated from the sample."
   ]
  },
  {
   "cell_type": "code",
   "execution_count": null,
   "id": "eb93091c-b540-4e05-a5a6-6a0f35642b15",
   "metadata": {},
   "outputs": [],
   "source": [
    "Q5. Write a Python script to conduct a hypothesis test on the difference between two population means,\n",
    "given a sample from each population."
   ]
  },
  {
   "cell_type": "code",
   "execution_count": null,
   "id": "41f535fa-6093-439e-9e55-0ca59721425a",
   "metadata": {},
   "outputs": [],
   "source": [
    "To conduct a hypothesis test on the difference between two population means using Python, you can use statistical libraries such as SciPy or statsmodels. Here, I'll provide an example using the SciPy library to perform a two-sample t-test for the difference in means. This assumes you have two samples: one from each population.\n",
    "\n",
    "Here's a step-by-step Python script:"
   ]
  },
  {
   "cell_type": "code",
   "execution_count": 2,
   "id": "95f93a99-6378-41d1-97ca-35aeb8c4bba3",
   "metadata": {},
   "outputs": [
    {
     "name": "stdout",
     "output_type": "stream",
     "text": [
      "Sample 1 Mean: 71.3\n",
      "Sample 2 Mean: 63.3\n",
      "t-statistic: 8.081220356417685\n",
      "p-value: 2.1217093944663356e-07\n",
      "Reject the null hypothesis. There is a significant difference in means.\n"
     ]
    }
   ],
   "source": [
    "import numpy as np\n",
    "from scipy import stats\n",
    "\n",
    "# Sample data from two populations (replace these with your actual data)\n",
    "sample1 = np.array([67, 72, 75, 71, 70, 68, 74, 73, 72, 71])\n",
    "sample2 = np.array([60, 65, 63, 64, 62, 61, 63, 66, 65, 64])\n",
    "\n",
    "# Define the significance level (alpha)\n",
    "alpha = 0.05  # You can adjust this based on your desired confidence level\n",
    "\n",
    "# Perform a two-sample t-test\n",
    "t_stat, p_value = stats.ttest_ind(sample1, sample2)\n",
    "\n",
    "# Print the results\n",
    "print(\"Sample 1 Mean:\", np.mean(sample1))\n",
    "print(\"Sample 2 Mean:\", np.mean(sample2))\n",
    "print(\"t-statistic:\", t_stat)\n",
    "print(\"p-value:\", p_value)\n",
    "\n",
    "# Determine whether to reject the null hypothesis\n",
    "if p_value < alpha:\n",
    "    print(\"Reject the null hypothesis. There is a significant difference in means.\")\n",
    "else:\n",
    "    print(\"Fail to reject the null hypothesis. There is no significant difference in means.\")\n",
    "\n",
    "    "
   ]
  },
  {
   "cell_type": "code",
   "execution_count": null,
   "id": "454bbef7-2b97-4dda-bef2-68fd2cca74c8",
   "metadata": {},
   "outputs": [],
   "source": [
    "In this script:\n",
    "\n",
    "Replace sample1 and sample2 with your actual data for the two samples you want to compare.\n",
    "\n",
    "Define the significance level alpha. This is typically set to 0.05 for a 95% confidence level, but you can adjust it based on your specific requirements.\n",
    "\n",
    "The stats.ttest_ind function from SciPy is used to perform the two-sample t-test. It calculates the t-statistic and p-value for the test.\n",
    "\n",
    "The script prints the sample means, t-statistic, and p-value.\n",
    "\n",
    "Based on the p-value and the chosen significance level (alpha), it determines whether to reject the null hypothesis and prints the result.\n",
    "\n",
    "This script tests whether there is a significant difference between the means of the two populations based on your sample data. If the p-value is less than the chosen alpha level, you would reject the null hypothesis, indicating that there is a significant difference in means. Otherwise, you would fail to reject the null hypothesis."
   ]
  },
  {
   "cell_type": "code",
   "execution_count": null,
   "id": "632c5949-9e8c-4847-bae1-cbeea27e9f7a",
   "metadata": {},
   "outputs": [],
   "source": [
    "Q6: What is a null and alternative hypothesis? Give some examples."
   ]
  },
  {
   "cell_type": "code",
   "execution_count": null,
   "id": "eb077195-79d7-48fb-b2cf-cbdbc4b053c2",
   "metadata": {},
   "outputs": [],
   "source": [
    "In hypothesis testing, the null hypothesis (\\(H_0\\)) and the alternative hypothesis (\\(H_a\\) or \\(H_1\\)) are two competing statements or claims about a population parameter or a phenomenon under investigation. These hypotheses are used to make statistical inferences based on sample data. Here's what each of them represents:\n",
    "\n",
    "1. **Null Hypothesis (\\(H_0\\)):**\n",
    "   \n",
    "   - The null hypothesis is a statement that there is no significant effect, difference, or relationship in the population. It represents the status quo or the default assumption.\n",
    "   - It is typically formulated to be a statement of no effect or no difference and is denoted as \\(H_0\\).\n",
    "   - In statistical notation, the null hypothesis often contains an equality symbol, such as \\(\\mu = 50\\) (population mean is equal to 50) or \\(p = 0.5\\) (population proportion is equal to 0.5).\n",
    "\n",
    "   **Examples:**\n",
    "   - \\(H_0\\): The average IQ of a group is 100.\n",
    "   - \\(H_0\\): The new drug has no effect on blood pressure (i.e., \\(\\mu_{\\text{before}} = \\mu_{\\text{after}}\\)).\n",
    "   - \\(H_0\\): There is no association between smoking and lung cancer risk (i.e., \\(p = 0.05\\)).\n",
    "\n",
    "2. **Alternative Hypothesis (\\(H_a\\) or \\(H_1\\)):**\n",
    "   \n",
    "   - The alternative hypothesis is a statement that contradicts the null hypothesis. It represents the claim or hypothesis you want to test, indicating that there is a significant effect, difference, or relationship in the population.\n",
    "   - It is denoted as \\(H_a\\) or sometimes \\(H_1\\).\n",
    "   - The alternative hypothesis can take different forms, depending on the research question and the nature of the effect being studied. Common forms include:\n",
    "     - Two-tailed (\\(H_a\\): \\(\\mu \\neq \\text{value}\\)): Indicates that you are interested in whether the parameter is different from a specific value.\n",
    "     - One-tailed (e.g., \\(H_a\\): \\(\\mu > \\text{value}\\) or \\(H_a\\): \\(\\mu < \\text{value}\\)): Indicates that you are interested in whether the parameter is greater than or less than a specific value.\n",
    "\n",
    "   **Examples:**\n",
    "   - \\(H_a\\): The average IQ of a group is not equal to 100 (\\(H_a\\): \\(\\mu \\neq 100\\)).\n",
    "   - \\(H_a\\): The new drug decreases blood pressure (\\(H_a\\): \\(\\mu_{\\text{before}} > \\mu_{\\text{after}}\\)).\n",
    "   - \\(H_a\\): There is a positive association between smoking and lung cancer risk (\\(H_a\\): \\(p < 0.05\\)).\n",
    "\n",
    "In hypothesis testing, the goal is to evaluate the evidence provided by sample data to decide whether to reject the null hypothesis in favor of the alternative hypothesis or fail to reject the null hypothesis. The choice of the null and alternative hypotheses depends on the research question and the specific hypothesis test being conducted. The outcome of the test (i.e., whether the null hypothesis is rejected or not) is based on statistical analysis and the comparison of sample statistics to expected values under the null hypothesis."
   ]
  },
  {
   "cell_type": "code",
   "execution_count": null,
   "id": "7e65ebc0-4747-4ec5-8b87-b012271280b3",
   "metadata": {},
   "outputs": [],
   "source": [
    "Q7: Write down the steps involved in hypothesis testing."
   ]
  },
  {
   "cell_type": "code",
   "execution_count": null,
   "id": "e53efee7-85c3-4fac-af72-39fb6960e21b",
   "metadata": {},
   "outputs": [],
   "source": [
    "Hypothesis testing is a systematic process used to make statistical inferences about population parameters based on sample data. The following are the key steps involved in hypothesis testing:\n",
    "\n",
    "1. **Formulate the Null Hypothesis (\\(H_0\\)) and Alternative Hypothesis (\\(H_a\\)):**\n",
    "   - Clearly define the null hypothesis, which represents the default or no-effect assumption.\n",
    "   - Formulate the alternative hypothesis, which represents the research question or the claim you want to test.\n",
    "\n",
    "2. **Select the Significance Level (\\(\\alpha\\)):**\n",
    "   - Choose the level of significance (\\(\\alpha\\)), which is the probability of making a Type I error (incorrectly rejecting a true null hypothesis).\n",
    "   - Common choices for \\(\\alpha\\) include 0.05 (5%) or 0.01 (1%), but it can vary depending on the specific application.\n",
    "\n",
    "3. **Collect and Analyze Data:**\n",
    "   - Collect a random sample from the population of interest.\n",
    "   - Calculate sample statistics (e.g., sample mean, sample standard deviation) from the sample data.\n",
    "\n",
    "4. **Select the Appropriate Test Statistic:**\n",
    "   - Choose a statistical test that is suitable for your research question and the type of data (e.g., t-test, z-test, chi-squared test).\n",
    "   - Ensure that the assumptions of the chosen test are met.\n",
    "\n",
    "5. **Calculate the Test Statistic:**\n",
    "   - Calculate the test statistic using the sample data and the chosen test formula.\n",
    "   - The test statistic quantifies how many standard errors the sample statistic is from the hypothesized population parameter under the null hypothesis.\n",
    "\n",
    "6. **Determine the Critical Region (Rejection Region):**\n",
    "   - Based on the chosen significance level (\\(\\alpha\\)) and the selected test, determine the critical values or critical region of the test statistic.\n",
    "   - The critical region represents extreme values of the test statistic that would lead to the rejection of the null hypothesis.\n",
    "\n",
    "7. **Compare the Test Statistic to the Critical Values:**\n",
    "   - Compare the calculated test statistic to the critical values or critical region.\n",
    "   - If the test statistic falls within the critical region, reject the null hypothesis. If it falls outside the critical region, fail to reject the null hypothesis.\n",
    "\n",
    "8. **Calculate the p-value:**\n",
    "   - Alternatively, you can calculate the p-value, which represents the probability of observing a test statistic as extreme as or more extreme than the one calculated, assuming the null hypothesis is true.\n",
    "   - If the p-value is less than or equal to \\(\\alpha\\), reject the null hypothesis.\n",
    "\n",
    "9. **Make a Decision:**\n",
    "   - Based on the comparison of the test statistic to the critical values or the p-value, make a statistical decision:\n",
    "     - If the test statistic falls in the critical region or if the p-value is less than \\(\\alpha\\), reject the null hypothesis.\n",
    "     - If the test statistic does not fall in the critical region or if the p-value is greater than \\(\\alpha\\), fail to reject the null hypothesis.\n",
    "\n",
    "10. **Draw a Conclusion:**\n",
    "    - Interpret the results in the context of the research question and the hypotheses.\n",
    "    - State whether there is sufficient evidence to support the alternative hypothesis or if there is not enough evidence to reject the null hypothesis.\n",
    "\n",
    "11. **Report the Findings:**\n",
    "    - Clearly communicate the results of the hypothesis test, including the test statistic, critical values, p-value, and the conclusion regarding the null hypothesis.\n",
    "\n",
    "12. **Consider Practical Significance:**\n",
    "    - After making a statistical decision, consider whether the observed effect or difference is practically significant and relevant to the real-world application.\n",
    "\n",
    "These steps provide a structured framework for conducting hypothesis testing and making informed statistical decisions based on sample data and the chosen significance level. The process helps researchers and analysts assess the evidence for or against a specific research hypothesis."
   ]
  },
  {
   "cell_type": "code",
   "execution_count": null,
   "id": "ba36bc75-41d9-4406-bb6a-3c03ef08b79f",
   "metadata": {},
   "outputs": [],
   "source": [
    "Q8. Define p-value and explain its significance in hypothesis testing."
   ]
  },
  {
   "cell_type": "code",
   "execution_count": null,
   "id": "e7b3a819-1723-4442-8f2c-695cef8f692e",
   "metadata": {},
   "outputs": [],
   "source": [
    "The p-value, or probability value, is a critical concept in hypothesis testing. It quantifies the evidence provided by sample data regarding the validity of the null hypothesis (\\(H_0\\)) and plays a central role in the decision-making process in hypothesis testing. Here's a definition and an explanation of the significance of the p-value:\n",
    "\n",
    "**Definition:** The p-value is the probability of observing a test statistic as extreme as or more extreme than the one calculated from sample data, assuming that the null hypothesis is true. In other words, it measures the likelihood of obtaining the observed results, or results even more extreme, under the assumption that there is no real effect or difference (i.e., under the null hypothesis).\n",
    "\n",
    "**Significance in Hypothesis Testing:**\n",
    "\n",
    "1. **Basis for Decision-Making:** The p-value serves as the basis for making a statistical decision in hypothesis testing. It helps answer the question: \"Is the evidence provided by the data strong enough to reject the null hypothesis?\"\n",
    "\n",
    "2. **Interpretation:** A small p-value (typically less than the chosen significance level \\(\\alpha\\)) suggests that the observed data is inconsistent with the null hypothesis. It indicates that there is strong evidence against the null hypothesis in favor of the alternative hypothesis (\\(H_a\\)).\n",
    "\n",
    "3. **Decision Rule:** Commonly, in hypothesis testing, a decision rule is established where:\n",
    "   - If the p-value is less than or equal to \\(\\alpha\\) (the significance level), the null hypothesis is rejected.\n",
    "   - If the p-value is greater than \\(\\alpha\\), the null hypothesis is not rejected (or \"fail to reject\").\n",
    "\n",
    "4. **Degree of Certainty:** The p-value provides a measure of the degree of certainty or confidence in the result. A very small p-value suggests a high degree of confidence in rejecting the null hypothesis, while a larger p-value implies less confidence.\n",
    "\n",
    "5. **Flexibility:** The p-value allows researchers to make decisions based on different levels of significance (\\(\\alpha\\)), depending on the desired trade-off between Type I (false positive) and Type II (false negative) errors. By choosing different \\(\\alpha\\) levels, researchers can set more or less stringent criteria for rejecting the null hypothesis.\n",
    "\n",
    "6. **Continuous Assessment:** The p-value is a continuous measure, meaning it can take on a range of values between 0 and 1. This allows for nuanced interpretation, especially when comparing results in scientific studies.\n",
    "\n",
    "7. **Not an Absolute Proof:** It's important to note that the p-value does not provide absolute proof or disproof of a hypothesis. It only quantifies the strength of evidence in the context of the data and the null hypothesis. Even if the p-value is small, other factors, such as the quality of the data and the relevance of the research question, should be considered when drawing conclusions.\n",
    "\n",
    "In summary, the p-value is a critical tool in hypothesis testing that helps assess the strength of evidence against the null hypothesis. It allows researchers to make informed decisions about whether to accept or reject the null hypothesis based on the observed data and the chosen significance level. Smaller p-values provide stronger evidence against the null hypothesis, while larger p-values suggest that there is not enough evidence to reject it."
   ]
  },
  {
   "cell_type": "code",
   "execution_count": null,
   "id": "094c44d5-f8ea-444b-8e18-ea7e833a3cb0",
   "metadata": {},
   "outputs": [],
   "source": [
    "Q9. Generate a Student's t-distribution plot using Python's matplotlib library, with the degrees of freedom\n",
    "parameter set to 10."
   ]
  },
  {
   "cell_type": "code",
   "execution_count": null,
   "id": "e12804df-96d4-42dc-9377-5cf69a16d47a",
   "metadata": {},
   "outputs": [],
   "source": [
    "To generate a Student's t-distribution plot using Python's Matplotlib library with degrees of freedom (\n",
    "�\n",
    "�\n",
    "df) set to 10, you can follow these steps:\n",
    "\n",
    "Import the necessary libraries.\n",
    "Create an array of x-values (e.g., from -3 to 3) for the t-distribution.\n",
    "Calculate the corresponding probability density function (PDF) values using the scipy.stats.t.pdf function.\n",
    "Plot the t-distribution.\n",
    "Here's a Python script to accomplish thi"
   ]
  },
  {
   "cell_type": "code",
   "execution_count": 3,
   "id": "0566b264-c658-4644-9f1c-513ccf90325b",
   "metadata": {},
   "outputs": [
    {
     "data": {
      "image/png": "[encoded data removed]",
      "text/plain": [
       "<Figure size 800x600 with 1 Axes>"
      ]
     },
     "metadata": {},
     "output_type": "display_data"
    }
   ],
   "source": [
    "import numpy as np\n",
    "import matplotlib.pyplot as plt\n",
    "import scipy.stats as stats\n",
    "\n",
    "# Degrees of freedom\n",
    "df = 10\n",
    "\n",
    "# Generate x-values (typically ranging from -3 to 3 for visualization)\n",
    "x = np.linspace(-3, 3, 1000)\n",
    "\n",
    "# Calculate the PDF values for the t-distribution\n",
    "pdf_values = stats.t.pdf(x, df)\n",
    "\n",
    "# Create the plot\n",
    "plt.figure(figsize=(8, 6))\n",
    "plt.plot(x, pdf_values, label=f\"t-distribution (df={df})\", color='b')\n",
    "plt.title(\"Student's t-Distribution\")\n",
    "plt.xlabel(\"x\")\n",
    "plt.ylabel(\"PDF\")\n",
    "plt.legend()\n",
    "plt.grid(True)\n",
    "plt.show()\n"
   ]
  },
  {
   "cell_type": "code",
   "execution_count": null,
   "id": "fc89f2ef-499a-4a3d-b3e3-31dca6b05006",
   "metadata": {},
   "outputs": [],
   "source": [
    "In this script:\n",
    "\n",
    "We set the degrees of freedom (\n",
    "�\n",
    "�\n",
    "df) to 10 as you specified.\n",
    "We create an array of x-values using np.linspace ranging from -3 to 3. Adjust the range as needed for your visualization.\n",
    "We calculate the PDF values for the t-distribution using stats.t.pdf from SciPy's statistics module.\n",
    "Finally, we create the plot using Matplotlib, labeling the axes and adding a legend to specify the degrees of freedom.\n",
    "Running this script will generate a plot of the Student's t-distribution with 10 degrees of freedom, showing its probability density function. You can customize the plot further by adjusting the range of x-values or adding additional elements like confidence intervals if needed."
   ]
  },
  {
   "cell_type": "code",
   "execution_count": null,
   "id": "ff762ad6-3316-45f9-9b19-1affe31a660a",
   "metadata": {},
   "outputs": [],
   "source": [
    "Q10. Write a Python program to calculate the two-sample t-test for independent samples, given two\n",
    "random samples of equal size and a null hypothesis that the population means are equal."
   ]
  },
  {
   "cell_type": "code",
   "execution_count": null,
   "id": "84103bf3-0609-49a6-8785-ff5dc2aa03d5",
   "metadata": {},
   "outputs": [],
   "source": [
    "To calculate a two-sample t-test for independent samples in Python, you can use the scipy.stats.ttest_ind function from the SciPy library. This function performs a two-sample t-test and calculates the t-statistic and p-value for the test. Here's a Python program to calculate the two-sample t-test for independent samples with the null hypothesis that the population means are equal:"
   ]
  },
  {
   "cell_type": "code",
   "execution_count": 4,
   "id": "c539daa3-cabe-4b39-a41a-33cf0c7be6c8",
   "metadata": {},
   "outputs": [
    {
     "name": "stdout",
     "output_type": "stream",
     "text": [
      "Sample 1 Mean: 71.3\n",
      "Sample 2 Mean: 63.3\n",
      "t-statistic: 8.081220356417685\n",
      "p-value: 2.1217093944663356e-07\n",
      "Reject the null hypothesis. There is a significant difference in means.\n"
     ]
    }
   ],
   "source": [
    "import numpy as np\n",
    "from scipy import stats\n",
    "\n",
    "# Generate two random samples (replace these with your actual data)\n",
    "sample1 = np.array([67, 72, 75, 71, 70, 68, 74, 73, 72, 71])\n",
    "sample2 = np.array([60, 65, 63, 64, 62, 61, 63, 66, 65, 64])\n",
    "\n",
    "# Perform the two-sample t-test assuming equal variances\n",
    "t_statistic, p_value = stats.ttest_ind(sample1, sample2)\n",
    "\n",
    "# Define the significance level (alpha)\n",
    "alpha = 0.05  # Adjust as needed\n",
    "\n",
    "# Print the results\n",
    "print(\"Sample 1 Mean:\", np.mean(sample1))\n",
    "print(\"Sample 2 Mean:\", np.mean(sample2))\n",
    "print(\"t-statistic:\", t_statistic)\n",
    "print(\"p-value:\", p_value)\n",
    "\n",
    "# Determine whether to reject the null hypothesis\n",
    "if p_value < alpha:\n",
    "    print(\"Reject the null hypothesis. There is a significant difference in means.\")\n",
    "else:\n",
    "    print(\"Fail to reject the null hypothesis. There is no significant difference in means.\")\n"
   ]
  },
  {
   "cell_type": "code",
   "execution_count": null,
   "id": "00df332e-b564-4803-be86-7cc5f9e9a258",
   "metadata": {},
   "outputs": [],
   "source": [
    "In this program:\n",
    "\n",
    "Replace sample1 and sample2 with your actual data for the two independent samples you want to compare.\n",
    "\n",
    "Set the significance level alpha to your desired value. The default is 0.05 for a 95% confidence level, but you can adjust it as needed.\n",
    "\n",
    "The program uses stats.ttest_ind to perform the two-sample t-test assuming equal variances. If you have reason to believe that the variances are unequal, you can use the equal_var=False argument in the ttest_ind function.\n",
    "\n",
    "The t-statistic and p-value are calculated, and the results are printed.\n",
    "\n",
    "Based on the p-value and the chosen significance level, the program determines whether to reject the null hypothesis and prints the result.\n",
    "\n",
    "This program allows you to compare two independent samples and assess whether there is a significant difference in their means under the null hypothesis that the population means are equa"
   ]
  },
  {
   "cell_type": "code",
   "execution_count": null,
   "id": "0ff7ce13-1b06-4146-a6f7-c26858299cfb",
   "metadata": {},
   "outputs": [],
   "source": [
    "Q11: What is Student’s t distribution? When to use the t-Distribution."
   ]
  },
  {
   "cell_type": "code",
   "execution_count": null,
   "id": "0fc0d252-514f-4fc2-81d8-fed42ef83d62",
   "metadata": {},
   "outputs": [],
   "source": [
    "Student's t-distribution, often simply referred to as the t-distribution, is a probability distribution that plays a crucial role in statistical inference, particularly when dealing with small sample sizes and estimating population parameters. It is a family of probability distributions, each characterized by its degrees of freedom (\\(df\\)), which affect its shape.\n",
    "\n",
    "**Key Characteristics of the t-Distribution:**\n",
    "\n",
    "1. **Shape:** The t-distribution has a bell-shaped or symmetric distribution similar to the normal distribution. However, it has heavier tails, which means it has more probability in the tails compared to the normal distribution.\n",
    "\n",
    "2. **Center:** The mean of the t-distribution is typically centered at zero (for most common applications), just like the standard normal distribution.\n",
    "\n",
    "3. **Spread:** The spread, or variability, of the t-distribution is determined by the degrees of freedom (\\(df\\)). As \\(df\\) increases, the t-distribution approaches the shape of the standard normal distribution.\n",
    "\n",
    "**When to Use the t-Distribution:**\n",
    "\n",
    "The t-distribution is used in several scenarios:\n",
    "\n",
    "1. **Small Sample Sizes:** When dealing with small sample sizes (typically when \\(n < 30\\)), the t-distribution is more appropriate than the normal distribution for making inferences about population parameters. This is because it accounts for the additional uncertainty introduced by estimating the population standard deviation from the sample.\n",
    "\n",
    "2. **Unknown Population Standard Deviation:** In cases where the population standard deviation (\\(\\sigma\\)) is unknown and must be estimated from the sample standard deviation (\\(s\\)), the t-distribution is used to account for the added uncertainty in the estimation process.\n",
    "\n",
    "3. **Confidence Intervals:** When constructing confidence intervals for population parameters, such as the population mean (\\(\\mu\\)), using sample data, the t-distribution is used to account for the variability in the estimate.\n",
    "\n",
    "4. **Hypothesis Testing:** When performing hypothesis tests involving sample means, such as one-sample t-tests, two-sample t-tests, and paired t-tests, the t-distribution is used to determine the test statistic's distribution under the null hypothesis.\n",
    "\n",
    "5. **Quality Control:** In quality control and manufacturing, the t-distribution is used to establish control charts and control limits, especially when dealing with small sample sizes.\n",
    "\n",
    "6. **Regression Analysis:** In regression analysis, when estimating the coefficients of a linear regression model, t-distributions are used to calculate t-statistics for hypothesis tests of individual coefficients.\n",
    "\n",
    "In summary, the t-distribution is especially useful when dealing with small samples, estimating population parameters with uncertainty in the sample standard deviation, constructing confidence intervals, and performing hypothesis tests involving sample means. It accounts for the added variability introduced by estimating population parameters from limited sample data. As the sample size increases, the t-distribution approaches the standard normal distribution, making it a versatile tool in statistical analysis."
   ]
  },
  {
   "cell_type": "code",
   "execution_count": null,
   "id": "e8d93086-335b-412f-bd58-4bb3e67265d4",
   "metadata": {},
   "outputs": [],
   "source": [
    "Q12: What is t-statistic? State the formula for t-statistic."
   ]
  },
  {
   "cell_type": "code",
   "execution_count": null,
   "id": "949eae8b-16a0-42ad-b1ca-b29bdeecc107",
   "metadata": {},
   "outputs": [],
   "source": [
    "The t-statistic (also known as the Student's t-statistic) is a statistic used in hypothesis testing to assess whether the means of two groups are significantly different from each other, or to test whether a sample mean is significantly different from a known population mean. It is based on the t-distribution and is used to determine how many standard errors the sample mean is away from the hypothesized population mean under the null hypothesis.\n",
    "\n",
    "The formula for the t-statistic depends on the specific hypothesis test being conducted. Here are two common scenarios and their corresponding t-statistic formulas:\n",
    "\n",
    "1. **One-Sample t-Test:**\n",
    "   \n",
    "   In a one-sample t-test, you compare the sample mean (\\(\\bar{x}\\)) to a hypothesized population mean (\\(\\mu\\)) when you have a single sample. The formula for the t-statistic in a one-sample t-test is:\n",
    "\n",
    "   \\[t = \\frac{\\bar{x} - \\mu}{\\frac{s}{\\sqrt{n}}}\\]\n",
    "\n",
    "   Where:\n",
    "   - \\(t\\) is the t-statistic.\n",
    "   - \\(\\bar{x}\\) is the sample mean.\n",
    "   - \\(\\mu\\) is the hypothesized population mean (under the null hypothesis).\n",
    "   - \\(s\\) is the sample standard deviation.\n",
    "   - \\(n\\) is the sample size.\n",
    "\n",
    "2. **Two-Sample t-Test (Independent Samples):**\n",
    "   \n",
    "   In a two-sample t-test for independent samples, you compare the means of two separate samples (e.g., sample 1 and sample 2). The formula for the t-statistic in this case is:\n",
    "\n",
    "   \\[t = \\frac{\\bar{x}_1 - \\bar{x}_2}{\\sqrt{\\frac{s_1^2}{n_1} + \\frac{s_2^2}{n_2}}}\\]\n",
    "\n",
    "   Where:\n",
    "   - \\(t\\) is the t-statistic.\n",
    "   - \\(\\bar{x}_1\\) and \\(\\bar{x}_2\\) are the sample means of the two groups.\n",
    "   - \\(s_1\\) and \\(s_2\\) are the sample standard deviations of the two groups.\n",
    "   - \\(n_1\\) and \\(n_2\\) are the sample sizes of the two groups.\n",
    "\n",
    "The t-statistic measures how many standard errors the observed difference in means is from what would be expected under the null hypothesis (typically no difference). The larger the absolute value of the t-statistic, the stronger the evidence against the null hypothesis, suggesting a significant difference.\n",
    "\n",
    "In hypothesis testing, you compare the calculated t-statistic to a critical value or use it to calculate a p-value. If the t-statistic falls in the critical region or if the p-value is smaller than a chosen significance level (\\(\\alpha\\)), you may reject the null hypothesis in favor of the alternative hypothesis, indicating a significant difference in means."
   ]
  },
  {
   "cell_type": "code",
   "execution_count": null,
   "id": "b1b9b5ba-b3ef-414b-9f3a-9ba0c98862b2",
   "metadata": {},
   "outputs": [],
   "source": [
    "Q13. A coffee shop owner wants to estimate the average daily revenue for their shop. They take a random\n",
    "sample of 50 days and find the sample mean revenue to be $500 with a standard deviation of $50.\n",
    "Estimate the population mean revenue with a 95% confidence interval."
   ]
  },
  {
   "cell_type": "code",
   "execution_count": null,
   "id": "0a911041-a57c-4366-90d4-6f2f60643aa8",
   "metadata": {},
   "outputs": [],
   "source": [
    "To estimate the population mean revenue with a 95% confidence interval, you can use the formula for a confidence interval for the population mean when the sample size is sufficiently large. Since you have a sample size of 50, which is relatively large, you can use the z-distribution (standard normal distribution) for this calculation.\n",
    "\n",
    "The formula for a 95% confidence interval for the population mean (\\(\\mu\\)) is:\n",
    "\n",
    "\\[ \\text{Confidence Interval} = \\bar{x} \\pm Z \\left( \\frac{s}{\\sqrt{n}} \\right) \\]\n",
    "\n",
    "Where:\n",
    "- \\(\\bar{x}\\) is the sample mean revenue.\n",
    "- \\(Z\\) is the critical value for a 95% confidence interval. It corresponds to the desired confidence level. For a 95% confidence interval, \\(Z\\) is approximately 1.96 (you can find this value in standard normal distribution tables or use a calculator).\n",
    "- \\(s\\) is the sample standard deviation.\n",
    "- \\(n\\) is the sample size.\n",
    "\n",
    "Given the information you provided:\n",
    "- \\(\\bar{x} = \\$500\\)\n",
    "- \\(s = \\$50\\)\n",
    "- \\(n = 50\\)\n",
    "- For a 95% confidence interval, \\(Z \\approx 1.96\\)\n",
    "\n",
    "Now, plug these values into the formula:\n",
    "\n",
    "\\[ \\text{Confidence Interval} = 500 \\pm 1.96 \\left( \\frac{50}{\\sqrt{50}} \\right) \\]\n",
    "\n",
    "Calculate the values inside the parentheses first:\n",
    "\n",
    "\\[ \\frac{50}{\\sqrt{50}} \\approx 7.0711 \\]\n",
    "\n",
    "Now, calculate the confidence interval:\n",
    "\n",
    "\\[ \\text{Confidence Interval} = 500 \\pm 1.96 \\times 7.0711 \\]\n",
    "\n",
    "Calculating the upper and lower bounds of the confidence interval:\n",
    "\n",
    "Lower Bound: \\(500 - 1.96 \\times 7.0711 \\approx 486.32\\)\n",
    "\n",
    "Upper Bound: \\(500 + 1.96 \\times 7.0711 \\approx 513.68\\)\n",
    "\n",
    "So, the 95% confidence interval for the population mean revenue is approximately \\(\\$486.32\\) to \\(\\$513.68\\). This means you can be 95% confident that the true average daily revenue for the coffee shop falls within this range based on your sample data."
   ]
  },
  {
   "cell_type": "code",
   "execution_count": null,
   "id": "1cae8cab-505e-40a0-8508-f19aed0a032f",
   "metadata": {},
   "outputs": [],
   "source": [
    "Q14. A researcher hypothesizes that a new drug will decrease blood pressure by 10 mmHg. They conduct a\n",
    "clinical trial with 100 patients and find that the sample mean decrease in blood pressure is 8 mmHg with a\n",
    "standard deviation of 3 mmHg. Test the hypothesis with a significance level of 0.05."
   ]
  },
  {
   "cell_type": "code",
   "execution_count": null,
   "id": "0dbc4eab-7dec-472b-b7b3-6d34a2b9e108",
   "metadata": {},
   "outputs": [],
   "source": [
    "To test the researcher's hypothesis that the new drug will decrease blood pressure by 10 mmHg with a significance level of 0.05, you can perform a one-sample t-test. The null hypothesis (\\(H_0\\)) is that the drug does not decrease blood pressure by 10 mmHg, while the alternative hypothesis (\\(H_a\\)) is that the drug does decrease blood pressure by 10 mmHg.\n",
    "\n",
    "Here are the details for the hypothesis test:\n",
    "\n",
    "- Null Hypothesis (\\(H_0\\)): The drug does not decrease blood pressure by 10 mmHg.\n",
    "  - \\(H_0: \\mu = 10\\) (population mean decrease in blood pressure is 10 mmHg).\n",
    "\n",
    "- Alternative Hypothesis (\\(H_a\\)): The drug does decrease blood pressure by 10 mmHg.\n",
    "  - \\(H_a: \\mu < 10\\) (population mean decrease in blood pressure is less than 10 mmHg).\n",
    "\n",
    "Given the information you provided:\n",
    "- Sample Mean (\\(\\bar{x}\\)) = 8 mmHg\n",
    "- Sample Standard Deviation (\\(s\\)) = 3 mmHg\n",
    "- Sample Size (\\(n\\)) = 100\n",
    "- Significance Level (\\(\\alpha\\)) = 0.05\n",
    "\n",
    "The formula for the t-statistic in a one-sample t-test is:\n",
    "\n",
    "\\[ t = \\frac{\\bar{x} - \\mu}{\\frac{s}{\\sqrt{n}}} \\]\n",
    "\n",
    "Now, plug in the values:\n",
    "\n",
    "\\[ t = \\frac{8 - 10}{\\frac{3}{\\sqrt{100}}} \\]\n",
    "\n",
    "Simplify:\n",
    "\n",
    "\\[ t = \\frac{-2}{\\frac{3}{10}} = -\\frac{20}{3} \\approx -6.67 \\]\n",
    "\n",
    "Now, you can calculate the critical t-value for a one-tailed test at a 0.05 significance level with 99 degrees of freedom (because \\(n - 1 = 99\\)). You can use a t-table or a calculator to find this critical value.\n",
    "\n",
    "For a one-tailed test at a 0.05 significance level with 99 degrees of freedom, the critical t-value is approximately -1.6604 (for a left-tailed test).\n",
    "\n",
    "Compare the calculated t-statistic to the critical t-value:\n",
    "\n",
    "- Calculated t-statistic: -6.67\n",
    "- Critical t-value: -1.6604\n",
    "\n",
    "Since the calculated t-statistic (-6.67) is less than the critical t-value (-1.6604), you reject the null hypothesis (\\(H_0\\)).\n",
    "\n",
    "**Conclusion:**\n",
    "Based on the results of the one-sample t-test, with a significance level of 0.05, there is strong evidence to suggest that the new drug does decrease blood pressure by more than 10 mmHg."
   ]
  },
  {
   "cell_type": "code",
   "execution_count": null,
   "id": "34191c4d-1402-46a0-a1fa-5a41866f5f42",
   "metadata": {},
   "outputs": [],
   "source": [
    "Q15. An electronics company produces a certain type of product with a mean weight of 5 pounds and a\n",
    "standard deviation of 0.5 pounds. A random sample of 25 products is taken, and the sample mean weight\n",
    "is found to be 4.8 pounds. Test the hypothesis that the true mean weight of the products is less than 5\n",
    "pounds with a significance level of 0.01."
   ]
  },
  {
   "cell_type": "code",
   "execution_count": null,
   "id": "9dbbc82e-a5c0-44cc-9dd5-d56901350571",
   "metadata": {},
   "outputs": [],
   "source": [
    "To test the hypothesis that the true mean weight of the products is less than 5 pounds with a significance level of 0.01, you can perform a one-sample t-test. The null hypothesis (\\(H_0\\)) is that the true mean weight is 5 pounds, while the alternative hypothesis (\\(H_a\\)) is that the true mean weight is less than 5 pounds.\n",
    "\n",
    "Here are the details for the hypothesis test:\n",
    "\n",
    "- Null Hypothesis (\\(H_0\\)): The true mean weight is 5 pounds.\n",
    "  - \\(H_0: \\mu = 5\\) (population mean weight is 5 pounds).\n",
    "\n",
    "- Alternative Hypothesis (\\(H_a\\)): The true mean weight is less than 5 pounds.\n",
    "  - \\(H_a: \\mu < 5\\) (population mean weight is less than 5 pounds).\n",
    "\n",
    "Given the information you provided:\n",
    "- Population Mean (\\(\\mu\\)) = 5 pounds\n",
    "- Population Standard Deviation (\\(\\sigma\\)) = 0.5 pounds\n",
    "- Sample Mean (\\(\\bar{x}\\)) = 4.8 pounds\n",
    "- Sample Size (\\(n\\)) = 25\n",
    "- Significance Level (\\(\\alpha\\)) = 0.01\n",
    "\n",
    "The formula for the t-statistic in a one-sample t-test is:\n",
    "\n",
    "\\[ t = \\frac{\\bar{x} - \\mu}{\\frac{\\sigma}{\\sqrt{n}}} \\]\n",
    "\n",
    "Now, plug in the values:\n",
    "\n",
    "\\[ t = \\frac{4.8 - 5}{\\frac{0.5}{\\sqrt{25}}} \\]\n",
    "\n",
    "Simplify:\n",
    "\n",
    "\\[ t = \\frac{-0.2}{\\frac{0.5}{5}} = \\frac{-0.2}{0.1} = -2 \\]\n",
    "\n",
    "Now, you can calculate the critical t-value for a left-tailed test at a 0.01 significance level with 24 degrees of freedom (because \\(n - 1 = 24\\)). You can use a t-table or a calculator to find this critical value.\n",
    "\n",
    "For a one-tailed test at a 0.01 significance level with 24 degrees of freedom, the critical t-value is approximately -2.4922 (for a left-tailed test).\n",
    "\n",
    "Compare the calculated t-statistic (-2) to the critical t-value (-2.4922):\n",
    "\n",
    "- Calculated t-statistic: -2\n",
    "- Critical t-value: -2.4922\n",
    "\n",
    "Since the calculated t-statistic (-2) is greater (in absolute value) than the critical t-value (-2.4922), you do not reject the null hypothesis (\\(H_0\\)).\n",
    "\n",
    "**Conclusion:**\n",
    "Based on the results of the one-sample t-test, at a significance level of 0.01, there is not enough evidence to conclude that the true mean weight of the products is less than 5 pounds."
   ]
  },
  {
   "cell_type": "code",
   "execution_count": null,
   "id": "0d0b4a75-0bf4-421a-b8f7-e0ebabb7f617",
   "metadata": {},
   "outputs": [],
   "source": [
    "Q16. Two groups of students are given different study materials to prepare for a test. The first group (n1 =\n",
    "30) has a mean score of 80 with a standard deviation of 10, and the second group (n2 = 40) has a mean\n",
    "score of 75 with a standard deviation of 8. Test the hypothesis that the population means for the two\n",
    "groups are equal with a significance level of 0.01."
   ]
  },
  {
   "cell_type": "code",
   "execution_count": null,
   "id": "2c5a554f-07b6-4f3d-89c1-58b8425cc9e3",
   "metadata": {},
   "outputs": [],
   "source": []
  },
  {
   "cell_type": "code",
   "execution_count": null,
   "id": "d59414f8-88e4-4116-8900-ead314c84e1f",
   "metadata": {},
   "outputs": [],
   "source": []
  },
  {
   "cell_type": "code",
   "execution_count": null,
   "id": "5b4b3d40-db05-40be-952b-0500ff317d60",
   "metadata": {},
   "outputs": [],
   "source": []
  },
  {
   "cell_type": "code",
   "execution_count": null,
   "id": "db272df2-fe06-4c04-9196-3beec068e845",
   "metadata": {},
   "outputs": [],
   "source": []
  },
  {
   "cell_type": "code",
   "execution_count": null,
   "id": "690eb6de-a644-4e6d-a169-69b56b614296",
   "metadata": {},
   "outputs": [],
   "source": []
  },
  {
   "cell_type": "code",
   "execution_count": null,
   "id": "7ab0e16c-a426-4383-89b2-389ede1e1dc6",
   "metadata": {},
   "outputs": [],
   "source": []
  }
 ],
 "metadata": {
  "kernelspec": {
   "display_name": "Python 3 (ipykernel)",
   "language": "python",
   "name": "python3"
  },
  "language_info": {
   "codemirror_mode": {
    "name": "ipython",
    "version": 3
   },
   "file_extension": ".py",
   "mimetype": "text/x-python",
   "name": "python",
   "nbconvert_exporter": "python",
   "pygments_lexer": "ipython3",
   "version": "3.10.6"
  }
 },
 "nbformat": 4,
 "nbformat_minor": 5
}
